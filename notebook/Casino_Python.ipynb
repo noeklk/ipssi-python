{
 "cells": [
  {
   "cell_type": "markdown",
   "metadata": {},
   "source": [
    "# Faîtes vos jeux!"
   ]
  },
  {
   "cell_type": "markdown",
   "metadata": {},
   "source": [
    "Dans cette série de notebook, nous allons coder des jeux de casino en python."
   ]
  },
  {
   "cell_type": "markdown",
   "metadata": {},
   "source": [
    "### 1ère Partie"
   ]
  },
  {
   "cell_type": "markdown",
   "metadata": {},
   "source": [
    "### Poker éléctronique\n",
    "\n",
    "##### Règles du jeu:\n",
    "\n",
    "Le poker éléctronique est un jeu de type machine à sous,\n",
    "le joueur choisi sa mise, appui sur le bouton \"jouer\" et la machine lui propose un jeu de 5 cartes tirés d'un jeu de 52 cartes.\n",
    "Le jouer peut alors choisir des cartes à garder, il peut choisir d'en garder 0, 1, 2, 3 ou 4, puis rappuie sur le bouton. Selon le choix du joueur, la machine tire de nouveaux le nombre de carte qu'il faut pour constituer le tirage final. \n",
    "Enfin le joueur récupère ses gains qui correspondent au montant de sa mise multiplié par le gain correspondant à la combinaison obtenue sur le tirage final. Si il n'a aucune combinaison il perd sa mise.\n",
    "\n",
    "##### Combinaison et gains:\n",
    "\n",
    "-Paire : 2 cartes identiques => 1 fois la mise\n",
    "\n",
    "-Double Paire : deux fois 2 cartes identiques => 2 fois la mise\n",
    "\n",
    "-Brelan : 3 cartes identiques => 3 fois la mise\n",
    "\n",
    "-Quinte : 5 cartes identiques => 4 fois la mise\n",
    "\n",
    "-Flush : 5 cartes de continuité => 6 fois la mise\n",
    "\n",
    "-Full : 1 paire + 1 brelan => 9 fois la mise\n",
    "\n",
    "-Carré : 4 cartes identiques => 25 fois la mise\n",
    "\n",
    "-Quinte Flush : 1 quinte de la même couleur => 50 fois la mise\n",
    "\n",
    "-Quinte Flush Royale : 1 quinte flush avec as, roi, dame, valet, 10 => 250 fois la mise."
   ]
  },
  {
   "cell_type": "code",
   "execution_count": 13,
   "metadata": {},
   "outputs": [],
   "source": [
    "import random"
   ]
  },
  {
   "cell_type": "markdown",
   "metadata": {},
   "source": [
    "Le deck represente le jeu de carte : \n",
    "\n",
    "chaque carte est représentée par :\n",
    "    \n",
    "- un chiffre ou un lettre majuscule qui représente la valeur de la carte ( J = Valet, Q = Dame, K = Roi, A = As )\n",
    "- une lettre minuscule qui représente la couleur ( h = Hearts = Coeur, d = Diamonds = Carreau, c = Clubs = Trèfle, s = Spades = Pique )"
   ]
  },
  {
   "cell_type": "code",
   "execution_count": 11,
   "metadata": {},
   "outputs": [],
   "source": [
    "deck = ['2-h','3-h','4-h','5-h','6-h','7-h','8-h','9-h','10-h','J-h','Q-h','K-h','A-h','2-d','3-d','4-d','5-d','6-d','7-d','8-d','9-d','10-d','J-d','Q-d','K-d','A-d','2-c','3-c','4-c','5-c','6-c','7-c','8-c','9-c','10-c','J-c','Q-c','K-c','A-c','2-s','3-s','4-s','5-s','6-s','7-s','8-s','9-s','10-s','J-s','Q-s','K-s','A-s']"
   ]
  },
  {
   "cell_type": "code",
   "execution_count": 80,
   "metadata": {},
   "outputs": [
    {
     "output_type": "execute_result",
     "data": {
      "text/plain": [
       "52"
      ]
     },
     "metadata": {},
     "execution_count": 80
    }
   ],
   "source": [
    "len(deck)"
   ]
  },
  {
   "cell_type": "markdown",
   "metadata": {},
   "source": [
    "Créer une fonction, nommée premier_tirage, permettant de faire un tirage aléatoire sans remise dans le deck.\n",
    "Les cartes tirées devront être retirées du deck pour le deuxième tirage.\n",
    "La fonction devra retourner le tirage, et le nouveau deck. "
   ]
  },
  {
   "source": [
    "def serve_amount_from_deck(deck: list = deck, amount: int = 5):\n",
    "    deck = ['2-h','3-h','4-h','5-h','6-h','7-h','8-h','9-h','10-h','J-h','Q-h','K-h','A-h','2-d','3-d','4-d','5-d','6-d','7-d','8-d','9-d','10-d','J-d','Q-d','K-d','A-d','2-c','3-c','4-c','5-c','6-c','7-c','8-c','9-c','10-c','J-c','Q-c','K-c','A-c','2-s','3-s','4-s','5-s','6-s','7-s','8-s','9-s','10-s','J-s','Q-s','K-s','A-s']\n",
    "    tirage = random.sample(deck, amount)\n",
    "\n",
    "    for x in tirage:\n",
    "        deck.remove(x)\n",
    "    \n",
    "    return tirage\n",
    "    \n",
    "card_draw_instance = serve_amount_from_deck(deck)\n",
    "\n",
    "print(card_draw_instance)\n"
   ],
   "cell_type": "code",
   "metadata": {},
   "execution_count": 15,
   "outputs": [
    {
     "output_type": "stream",
     "name": "stdout",
     "text": [
      "['5-d', '2-c', 'Q-s', 'J-c', '6-c']\n"
     ]
    }
   ]
  },
  {
   "cell_type": "markdown",
   "metadata": {},
   "source": [
    "Créer une fonction, nommée choix_carte, qui prend un tirage en entrée, et permet au joueur de choisir quelle carte il garde ou non pour le deuxième tirage. La fonction devra retourner le jeu avec les carte que le joueur aura garder."
   ]
  },
  {
   "cell_type": "code",
   "execution_count": 82,
   "metadata": {},
   "outputs": [
    {
     "output_type": "stream",
     "name": "stdout",
     "text": [
      "['10-s', '6-d']\n"
     ]
    }
   ],
   "source": [
    "def choix_carte(card_draw: list):\n",
    "    new_card_draw = []\n",
    "\n",
    "    for x in card_draw:\n",
    "        keeps_card = input(f\"do you want to keep the card: [{x}] y/n\")\n",
    "\n",
    "        if keeps_card.lower() == \"y\":\n",
    "            new_card_draw.append(x)\n",
    "        elif keeps_card.lower() == \"n\":\n",
    "            pass\n",
    "        else:\n",
    "            return \"input error\"\n",
    "\n",
    "    return new_card_draw\n",
    "\n",
    "chosen_cards_instance = choix_carte(card_draw_instance)\n",
    "\n",
    "print(chosen_cards_instance)\n",
    "\n"
   ]
  },
  {
   "cell_type": "markdown",
   "metadata": {},
   "source": [
    "Créer un fonction, nommée deuxieme_tirage, qui permet, à partir du jeu obtenu avec la fonction choix_carte et le deck obtenu avec la fonction premier tirage, de constituer le tirage final du joueur. La fonction devra retourner le tirage final."
   ]
  },
  {
   "cell_type": "code",
   "execution_count": 83,
   "metadata": {},
   "outputs": [
    {
     "output_type": "stream",
     "name": "stdout",
     "text": [
      "['10-s', '6-d', '5-h', '5-d', '7-d']\n"
     ]
    }
   ],
   "source": [
    "def deuxieme_tirage(chosen_cards: list, deck: list):\n",
    "    if len(chosen_cards) == 5:\n",
    "        return chosen_cards\n",
    "\n",
    "    new_cards_amount = 5 - len(chosen_cards)\n",
    "    chosen_cards.extend(serve_amount_from_deck(deck, new_cards_amount))\n",
    "\n",
    "    return chosen_cards\n",
    "\n",
    "print(deuxieme_tirage(chosen_cards_instance , deck))\n"
   ]
  },
  {
   "cell_type": "markdown",
   "metadata": {},
   "source": [
    "Grâce aux fonctions créées précédemment, faire un fonction nommée machine, qui fait le premier tirage, l'affiche, propose au joueur les cartes afin de choisir celles à garder, puis fait le deuxième tirage et l'affiche et le retourne."
   ]
  },
  {
   "cell_type": "code",
   "execution_count": null,
   "metadata": {},
   "outputs": [],
   "source": [
    "def machine():\n",
    "    deck = ['2-h','3-h','4-h','5-h','6-h','7-h','8-h','9-h','10-h','J-h','Q-h','K-h','A-h','2-d','3-d','4-d','5-d','6-d','7-d','8-d','9-d','10-d','J-d','Q-d','K-d','A-d','2-c','3-c','4-c','5-c','6-c','7-c','8-c','9-c','10-c','J-c','Q-c','K-c','A-c','2-s','3-s','4-s','5-s','6-s','7-s','8-s','9-s','10-s','J-s','Q-s','K-s','A-s']\n",
    "    draw = serve_amount_from_deck(deck, 5)\n",
    "    print(f\"Premier tirage: {draw}\")\n",
    "    chosen_cards = choix_carte(draw)\n",
    "    second_draw = deuxieme_tirage(chosen_cards, deck)\n",
    "    print(f\"Deuxième tirage: {second_draw}\")\n",
    "\n",
    "machine()\n"
   ]
  },
  {
   "cell_type": "markdown",
   "metadata": {},
   "source": [
    "Trouver un moyen de tester un tirage pour voir si il correspond à une des combinaisons gagnantes."
   ]
  },
  {
   "cell_type": "code",
   "execution_count": 244,
   "metadata": {
    "tags": []
   },
   "outputs": [
    {
     "output_type": "stream",
     "name": "stdout",
     "text": [
      "['9-h', 'K-d', 'Q-c', '7-h', 'Q-s']\n2\n"
     ]
    }
   ],
   "source": [
    "from collections import defaultdict\n",
    "import random\n",
    "\n",
    "deck = ['2-h','3-h','4-h','5-h','6-h','7-h','8-h','9-h','10-h','J-h','Q-h','K-h','A-h','2-d','3-d','4-d','5-d','6-d','7-d','8-d','9-d','10-d','J-d','Q-d','K-d','A-d','2-c','3-c','4-c','5-c','6-c','7-c','8-c','9-c','10-c','J-c','Q-c','K-c','A-c','2-s','3-s','4-s','5-s','6-s','7-s','8-s','9-s','10-s','J-s','Q-s','K-s','A-s']\n",
    "\n",
    "hand_dict = {10:\"royal-flush\", 9:\"straight-flush\", 8:\"four-of-a-kind\", 7:\"full-house\", 6:\"flush\", 5:\"straight\", 4:\"three-of-a-kind\", 3:\"two-pairs\", 2:\"one-pair\", 1:\"highest-card\"}\n",
    "\n",
    "card_order_dict = [\"2\", \"3\", \"4\", \"5\", \"6\", \"7\", \"8\", \"9\", \"10\", \"J\" ,\"Q\", \"K\", \"A\"]\n",
    "\n",
    "def deconstruct_draw(draw):\n",
    "  rank_array = [h.split(\"-\")[0] for h in draw]\n",
    "  color_array = [h.split(\"-\")[1] for h in draw]\n",
    "\n",
    "  return rank_array, color_array\n",
    "\n",
    "\n",
    "def check_flush(draw):\n",
    "    rank_array, color_array = deconstruct_draw(draw)\n",
    "\n",
    "    if len(set(color_array)) == 1:\n",
    "      return True\n",
    "\n",
    "    return False\n",
    "\n",
    "def check_straight(draw):\n",
    "  rank_array, color_array = deconstruct_draw(draw)\n",
    "\n",
    "  if sorted(rank_array) == ['2', '3', '4', '5', 'A']:\n",
    "    return True\n",
    "\n",
    "  for i in range(9):\n",
    "    if sorted(rank_array) == sorted(card_order_dict[i:5+i]):\n",
    "      return True\n",
    "  \n",
    "  return False\n",
    "\n",
    "def check_royal_flush(draw):\n",
    "  rank_array, color_array = deconstruct_draw(draw)\n",
    "\n",
    "  if check_flush(draw) == True and sorted(rank_array) == ['10', 'A', 'J', 'K', 'Q']:\n",
    "    return True\n",
    "  \n",
    "  return False\n",
    "\n",
    "def check_straight_flush(draw):\n",
    "  rank_array, color_array = deconstruct_draw(draw)\n",
    "\n",
    "  if check_flush(draw) == True and check_straight(draw) == True:\n",
    "    return True\n",
    "\n",
    "  return False\n",
    "\n",
    "def check_four_of_a_kind(draw):\n",
    "  rank_array, color_array = deconstruct_draw(draw)\n",
    "  value_counts = defaultdict(lambda:0)\n",
    "\n",
    "  for i in rank_array:\n",
    "    value_counts[i]+=1\n",
    "\n",
    "  if sorted(value_counts.values()) == [1,4]:\n",
    "    return True\n",
    "  return False\n",
    "\n",
    "def check_full_house(draw):\n",
    "  rank_array, color_array = deconstruct_draw(draw)\n",
    "  value_counts = defaultdict(lambda:0)\n",
    "\n",
    "  for v in rank_array:\n",
    "        value_counts[v]+=1\n",
    "\n",
    "  if sorted(value_counts.values()) == [2,3]:\n",
    "    return True\n",
    "  return False\n",
    "\n",
    "def check_three_of_a_kind(draw):\n",
    "  rank_array, color_array = deconstruct_draw(draw)\n",
    "  value_counts = defaultdict(lambda:0)\n",
    "\n",
    "  for i in rank_array:\n",
    "    value_counts[i]+=1\n",
    "\n",
    "  if set(value_counts.values()) == set([3, 1]):\n",
    "    return True\n",
    "  return False\n",
    "\n",
    "def check_two_pairs(draw):\n",
    "  rank_array, color_array = deconstruct_draw(draw)\n",
    "  value_counts = defaultdict(lambda:0)\n",
    "\n",
    "  for v in rank_array:\n",
    "        value_counts[v]+=1\n",
    "\n",
    "  if sorted(value_counts.values()) == [1,2,2]:\n",
    "    return True\n",
    "  return False\n",
    "\n",
    "def check_one_pair(draw):\n",
    "  rank_array, color_array = deconstruct_draw(draw)\n",
    "  value_counts = defaultdict(lambda:0)\n",
    "\n",
    "  for v in rank_array:\n",
    "        value_counts[v]+=1\n",
    "\n",
    "  if sorted(value_counts.values()) == [1,1,1,2]:\n",
    "    return True\n",
    "  return False\n",
    "\n",
    "def check_best_hand(draw):\n",
    "  if check_royal_flush(draw):\n",
    "    return 10\n",
    "  elif check_straight_flush(draw):\n",
    "    return 9\n",
    "  elif check_four_of_a_kind(draw):\n",
    "    return 8\n",
    "  elif check_full_house(draw):\n",
    "    return 7\n",
    "  elif check_flush(draw):\n",
    "    return 6\n",
    "  elif check_straight(draw):\n",
    "    return 5\n",
    "  elif check_three_of_a_kind(draw):\n",
    "    return 4\n",
    "  elif check_two_pairs(draw):\n",
    "    return 3\n",
    "  elif check_one_pair(draw):\n",
    "    return 2\n",
    "\n",
    "  return False\n",
    "\n",
    "while True:\n",
    "  hand = serve_amount_from_deck(deck)\n",
    "  if check_best_hand(hand):\n",
    "    print(hand)\n",
    "    print(check_best_hand(hand))\n",
    "    break"
   ]
  },
  {
   "cell_type": "code",
   "execution_count": 1,
   "metadata": {},
   "outputs": [],
   "source": [
    "# def combinaison_gagnante(draw):\n",
    "#     num_array = []\n",
    "#     form_array = []\n",
    "\n",
    "#     duplicate_num_count = 0\n",
    "#     known_pairs = 0\n",
    "\n",
    "#     for x in draw:\n",
    "#         num, form = x.split(\"-\")\n",
    "#         num_array.append(num)\n",
    "#         form_array.append(form)\n",
    "\n",
    "#     print(\"n: \", num_array)\n",
    "#     print(\"f: \", form_array)\n",
    "\n",
    "#     i = 0\n",
    "#     c = 0\n",
    "#     while i < len(num_array):\n",
    "#         while c < len(num_array):\n",
    "#             if i == c:\n",
    "#                 c += 1\n",
    "#                 pass\n",
    "            \n",
    "#             print(\"i: \", num_array[i])\n",
    "#             print(\"c: \", num_array[c])\n",
    "\n",
    "#             if num_array[i] == num_array[c]:\n",
    "#                 print(\"boop\")\n",
    "#                 duplicate_num_count += 1\n",
    "#             c += 1\n",
    "        \n",
    "#         i += 1\n",
    "#         c = 0\n",
    "\n",
    "#     if duplicate_num_count == 1:\n",
    "#         return \"Paire\"\n",
    "#     elif duplicate_num_count == 2:\n",
    "#         return \"Brelan\"\n",
    "#     elif duplicate_num_count == 3:\n",
    "#         return \"Carré\"\n",
    "            \n",
    "#     return duplicate_num_count\n",
    "\n",
    "# duplicates = combinaison_gagnante([\"10-h\", \"10-h\", \"6-h\", \"6-h\", \"5-h\"])\n",
    "# print(duplicates)\n",
    "\n",
    "#while duplicates <= 0:\n",
    "#    duplicates = combinaison_gagnante(serve_amount_from_deck(deck))\n",
    "#print(duplicates)"
   ]
  },
  {
   "cell_type": "markdown",
   "metadata": {},
   "source": [
    "Créer une fonction, nommée partie, qui prend en entrée une mise et une bankroll (total de l'argent disponible pour jouer), perment de faire le tirage, et calcule la nouvelle bankroll en fonction des gains. La fonction devra retourner le resultat de la partie et la nouvelle bankroll."
   ]
  },
  {
   "cell_type": "code",
   "execution_count": null,
   "metadata": {},
   "outputs": [],
   "source": []
  },
  {
   "cell_type": "markdown",
   "metadata": {},
   "source": [
    "Créer une fonction, nommée video_poker, qui permet au joueur \"d'inserer de l'argent\" (bankroll), de choisir la mise puis de jouer jusqu'a avoir tout perdu (ou pas si il a de la chance!)"
   ]
  },
  {
   "cell_type": "code",
   "execution_count": null,
   "metadata": {},
   "outputs": [],
   "source": []
  },
  {
   "cell_type": "markdown",
   "metadata": {},
   "source": [
    "Reprenez le notebook en scripts, et executez votre programme dans votre terminal."
   ]
  },
  {
   "cell_type": "code",
   "execution_count": null,
   "metadata": {},
   "outputs": [],
   "source": []
  }
 ],
 "metadata": {
  "kernelspec": {
   "display_name": "Python 3",
   "language": "python",
   "name": "python3"
  },
  "language_info": {
   "codemirror_mode": {
    "name": "ipython",
    "version": 3
   },
   "file_extension": ".py",
   "mimetype": "text/x-python",
   "name": "python",
   "nbconvert_exporter": "python",
   "pygments_lexer": "ipython3",
   "version": "3.8.5-final"
  }
 },
 "nbformat": 4,
 "nbformat_minor": 4
}