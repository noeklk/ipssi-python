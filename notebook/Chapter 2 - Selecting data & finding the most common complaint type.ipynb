{
 "cells": [
  {
   "cell_type": "code",
   "execution_count": 1,
   "metadata": {},
   "outputs": [],
   "source": [
    "# The usual preamble\n",
    "%matplotlib inline\n",
    "import pandas as pd\n",
    "import matplotlib.pyplot as plt\n",
    "\n",
    "\n",
    "plt.rcParams['figure.figsize'] = (15, 5)"
   ]
  },
  {
   "cell_type": "markdown",
   "metadata": {},
   "source": [
    "We're going to use a new dataset here, to demonstrate how to deal with larger datasets. This is a subset of the of 311 service requests from [NYC Open Data](https://nycopendata.socrata.com/Social-Services/311-Service-Requests-from-2010-to-Present/erm2-nwe9). \n",
    "\n",
    "load the csv in a dataframe."
   ]
  },
  {
   "cell_type": "code",
   "execution_count": 12,
   "metadata": {},
   "outputs": [],
   "source": [
    "df = pd.read_csv(\"static/311-service-requests.csv\", encoding='latin1', low_memory=False)\n",
    "#df"
   ]
  },
  {
   "cell_type": "markdown",
   "metadata": {},
   "source": [
    "# 2.1 Getting summary information"
   ]
  },
  {
   "cell_type": "markdown",
   "metadata": {},
   "source": [
    "Explore the dataframe set with methods like .info(), .head(), .describe()"
   ]
  },
  {
   "cell_type": "code",
   "execution_count": 6,
   "metadata": {},
   "outputs": [
    {
     "name": "stdout",
     "output_type": "stream",
     "text": [
      "<class 'pandas.core.frame.DataFrame'>\n",
      "RangeIndex: 111069 entries, 0 to 111068\n",
      "Data columns (total 52 columns):\n",
      " #   Column                          Non-Null Count   Dtype  \n",
      "---  ------                          --------------   -----  \n",
      " 0   Unique Key                      111069 non-null  int64  \n",
      " 1   Created Date                    111069 non-null  object \n",
      " 2   Closed Date                     60270 non-null   object \n",
      " 3   Agency                          111069 non-null  object \n",
      " 4   Agency Name                     111069 non-null  object \n",
      " 5   Complaint Type                  111069 non-null  object \n",
      " 6   Descriptor                      110613 non-null  object \n",
      " 7   Location Type                   79022 non-null   object \n",
      " 8   Incident Zip                    98807 non-null   object \n",
      " 9   Incident Address                84441 non-null   object \n",
      " 10  Street Name                     84432 non-null   object \n",
      " 11  Cross Street 1                  84728 non-null   object \n",
      " 12  Cross Street 2                  84005 non-null   object \n",
      " 13  Intersection Street 1           19364 non-null   object \n",
      " 14  Intersection Street 2           19366 non-null   object \n",
      " 15  Address Type                    102247 non-null  object \n",
      " 16  City                            98854 non-null   object \n",
      " 17  Landmark                        95 non-null      object \n",
      " 18  Facility Type                   19104 non-null   object \n",
      " 19  Status                          111069 non-null  object \n",
      " 20  Due Date                        39239 non-null   object \n",
      " 21  Resolution Action Updated Date  96507 non-null   object \n",
      " 22  Community Board                 111069 non-null  object \n",
      " 23  Borough                         111069 non-null  object \n",
      " 24  X Coordinate (State Plane)      98143 non-null   float64\n",
      " 25  Y Coordinate (State Plane)      98143 non-null   float64\n",
      " 26  Park Facility Name              111069 non-null  object \n",
      " 27  Park Borough                    111069 non-null  object \n",
      " 28  School Name                     111069 non-null  object \n",
      " 29  School Number                   111048 non-null  object \n",
      " 30  School Region                   110524 non-null  object \n",
      " 31  School Code                     110524 non-null  object \n",
      " 32  School Phone Number             111069 non-null  object \n",
      " 33  School Address                  111069 non-null  object \n",
      " 34  School City                     111069 non-null  object \n",
      " 35  School State                    111069 non-null  object \n",
      " 36  School Zip                      111069 non-null  object \n",
      " 37  School Not Found                38984 non-null   object \n",
      " 38  School or Citywide Complaint    0 non-null       float64\n",
      " 39  Vehicle Type                    99 non-null      object \n",
      " 40  Taxi Company Borough            117 non-null     object \n",
      " 41  Taxi Pick Up Location           1059 non-null    object \n",
      " 42  Bridge Highway Name             185 non-null     object \n",
      " 43  Bridge Highway Direction        185 non-null     object \n",
      " 44  Road Ramp                       180 non-null     object \n",
      " 45  Bridge Highway Segment          219 non-null     object \n",
      " 46  Garage Lot Name                 49 non-null      object \n",
      " 47  Ferry Direction                 24 non-null      object \n",
      " 48  Ferry Terminal Name             70 non-null      object \n",
      " 49  Latitude                        98143 non-null   float64\n",
      " 50  Longitude                       98143 non-null   float64\n",
      " 51  Location                        98143 non-null   object \n",
      "dtypes: float64(5), int64(1), object(46)\n",
      "memory usage: 44.1+ MB\n"
     ]
    }
   ],
   "source": [
    "df.info()"
   ]
  },
  {
   "cell_type": "code",
   "execution_count": 7,
   "metadata": {},
   "outputs": [
    {
     "data": {
      "text/html": [
       "<div>\n",
       "<style scoped>\n",
       "    .dataframe tbody tr th:only-of-type {\n",
       "        vertical-align: middle;\n",
       "    }\n",
       "\n",
       "    .dataframe tbody tr th {\n",
       "        vertical-align: top;\n",
       "    }\n",
       "\n",
       "    .dataframe thead th {\n",
       "        text-align: right;\n",
       "    }\n",
       "</style>\n",
       "<table border=\"1\" class=\"dataframe\">\n",
       "  <thead>\n",
       "    <tr style=\"text-align: right;\">\n",
       "      <th></th>\n",
       "      <th>Unique Key</th>\n",
       "      <th>Created Date</th>\n",
       "      <th>Closed Date</th>\n",
       "      <th>Agency</th>\n",
       "      <th>Agency Name</th>\n",
       "      <th>Complaint Type</th>\n",
       "      <th>Descriptor</th>\n",
       "      <th>Location Type</th>\n",
       "      <th>Incident Zip</th>\n",
       "      <th>Incident Address</th>\n",
       "      <th>...</th>\n",
       "      <th>Bridge Highway Name</th>\n",
       "      <th>Bridge Highway Direction</th>\n",
       "      <th>Road Ramp</th>\n",
       "      <th>Bridge Highway Segment</th>\n",
       "      <th>Garage Lot Name</th>\n",
       "      <th>Ferry Direction</th>\n",
       "      <th>Ferry Terminal Name</th>\n",
       "      <th>Latitude</th>\n",
       "      <th>Longitude</th>\n",
       "      <th>Location</th>\n",
       "    </tr>\n",
       "  </thead>\n",
       "  <tbody>\n",
       "    <tr>\n",
       "      <th>0</th>\n",
       "      <td>26589651</td>\n",
       "      <td>10/31/2013 02:08:41 AM</td>\n",
       "      <td>NaN</td>\n",
       "      <td>NYPD</td>\n",
       "      <td>New York City Police Department</td>\n",
       "      <td>Noise - Street/Sidewalk</td>\n",
       "      <td>Loud Talking</td>\n",
       "      <td>Street/Sidewalk</td>\n",
       "      <td>11432</td>\n",
       "      <td>90-03 169 STREET</td>\n",
       "      <td>...</td>\n",
       "      <td>NaN</td>\n",
       "      <td>NaN</td>\n",
       "      <td>NaN</td>\n",
       "      <td>NaN</td>\n",
       "      <td>NaN</td>\n",
       "      <td>NaN</td>\n",
       "      <td>NaN</td>\n",
       "      <td>40.708275</td>\n",
       "      <td>-73.791604</td>\n",
       "      <td>(40.70827532593202, -73.79160395779721)</td>\n",
       "    </tr>\n",
       "    <tr>\n",
       "      <th>1</th>\n",
       "      <td>26593698</td>\n",
       "      <td>10/31/2013 02:01:04 AM</td>\n",
       "      <td>NaN</td>\n",
       "      <td>NYPD</td>\n",
       "      <td>New York City Police Department</td>\n",
       "      <td>Illegal Parking</td>\n",
       "      <td>Commercial Overnight Parking</td>\n",
       "      <td>Street/Sidewalk</td>\n",
       "      <td>11378</td>\n",
       "      <td>58 AVENUE</td>\n",
       "      <td>...</td>\n",
       "      <td>NaN</td>\n",
       "      <td>NaN</td>\n",
       "      <td>NaN</td>\n",
       "      <td>NaN</td>\n",
       "      <td>NaN</td>\n",
       "      <td>NaN</td>\n",
       "      <td>NaN</td>\n",
       "      <td>40.721041</td>\n",
       "      <td>-73.909453</td>\n",
       "      <td>(40.721040535628305, -73.90945306791765)</td>\n",
       "    </tr>\n",
       "    <tr>\n",
       "      <th>2</th>\n",
       "      <td>26594139</td>\n",
       "      <td>10/31/2013 02:00:24 AM</td>\n",
       "      <td>10/31/2013 02:40:32 AM</td>\n",
       "      <td>NYPD</td>\n",
       "      <td>New York City Police Department</td>\n",
       "      <td>Noise - Commercial</td>\n",
       "      <td>Loud Music/Party</td>\n",
       "      <td>Club/Bar/Restaurant</td>\n",
       "      <td>10032</td>\n",
       "      <td>4060 BROADWAY</td>\n",
       "      <td>...</td>\n",
       "      <td>NaN</td>\n",
       "      <td>NaN</td>\n",
       "      <td>NaN</td>\n",
       "      <td>NaN</td>\n",
       "      <td>NaN</td>\n",
       "      <td>NaN</td>\n",
       "      <td>NaN</td>\n",
       "      <td>40.843330</td>\n",
       "      <td>-73.939144</td>\n",
       "      <td>(40.84332975466513, -73.93914371913482)</td>\n",
       "    </tr>\n",
       "    <tr>\n",
       "      <th>3</th>\n",
       "      <td>26595721</td>\n",
       "      <td>10/31/2013 01:56:23 AM</td>\n",
       "      <td>10/31/2013 02:21:48 AM</td>\n",
       "      <td>NYPD</td>\n",
       "      <td>New York City Police Department</td>\n",
       "      <td>Noise - Vehicle</td>\n",
       "      <td>Car/Truck Horn</td>\n",
       "      <td>Street/Sidewalk</td>\n",
       "      <td>10023</td>\n",
       "      <td>WEST 72 STREET</td>\n",
       "      <td>...</td>\n",
       "      <td>NaN</td>\n",
       "      <td>NaN</td>\n",
       "      <td>NaN</td>\n",
       "      <td>NaN</td>\n",
       "      <td>NaN</td>\n",
       "      <td>NaN</td>\n",
       "      <td>NaN</td>\n",
       "      <td>40.778009</td>\n",
       "      <td>-73.980213</td>\n",
       "      <td>(40.7780087446372, -73.98021349023975)</td>\n",
       "    </tr>\n",
       "    <tr>\n",
       "      <th>4</th>\n",
       "      <td>26590930</td>\n",
       "      <td>10/31/2013 01:53:44 AM</td>\n",
       "      <td>NaN</td>\n",
       "      <td>DOHMH</td>\n",
       "      <td>Department of Health and Mental Hygiene</td>\n",
       "      <td>Rodent</td>\n",
       "      <td>Condition Attracting Rodents</td>\n",
       "      <td>Vacant Lot</td>\n",
       "      <td>10027</td>\n",
       "      <td>WEST 124 STREET</td>\n",
       "      <td>...</td>\n",
       "      <td>NaN</td>\n",
       "      <td>NaN</td>\n",
       "      <td>NaN</td>\n",
       "      <td>NaN</td>\n",
       "      <td>NaN</td>\n",
       "      <td>NaN</td>\n",
       "      <td>NaN</td>\n",
       "      <td>40.807691</td>\n",
       "      <td>-73.947387</td>\n",
       "      <td>(40.80769092704951, -73.94738703491433)</td>\n",
       "    </tr>\n",
       "  </tbody>\n",
       "</table>\n",
       "<p>5 rows × 52 columns</p>\n",
       "</div>"
      ],
      "text/plain": [
       "   Unique Key            Created Date             Closed Date Agency  \\\n",
       "0    26589651  10/31/2013 02:08:41 AM                     NaN   NYPD   \n",
       "1    26593698  10/31/2013 02:01:04 AM                     NaN   NYPD   \n",
       "2    26594139  10/31/2013 02:00:24 AM  10/31/2013 02:40:32 AM   NYPD   \n",
       "3    26595721  10/31/2013 01:56:23 AM  10/31/2013 02:21:48 AM   NYPD   \n",
       "4    26590930  10/31/2013 01:53:44 AM                     NaN  DOHMH   \n",
       "\n",
       "                               Agency Name           Complaint Type  \\\n",
       "0          New York City Police Department  Noise - Street/Sidewalk   \n",
       "1          New York City Police Department          Illegal Parking   \n",
       "2          New York City Police Department       Noise - Commercial   \n",
       "3          New York City Police Department          Noise - Vehicle   \n",
       "4  Department of Health and Mental Hygiene                   Rodent   \n",
       "\n",
       "                     Descriptor        Location Type Incident Zip  \\\n",
       "0                  Loud Talking      Street/Sidewalk        11432   \n",
       "1  Commercial Overnight Parking      Street/Sidewalk        11378   \n",
       "2              Loud Music/Party  Club/Bar/Restaurant        10032   \n",
       "3                Car/Truck Horn      Street/Sidewalk        10023   \n",
       "4  Condition Attracting Rodents           Vacant Lot        10027   \n",
       "\n",
       "   Incident Address  ... Bridge Highway Name Bridge Highway Direction  \\\n",
       "0  90-03 169 STREET  ...                 NaN                      NaN   \n",
       "1         58 AVENUE  ...                 NaN                      NaN   \n",
       "2     4060 BROADWAY  ...                 NaN                      NaN   \n",
       "3    WEST 72 STREET  ...                 NaN                      NaN   \n",
       "4   WEST 124 STREET  ...                 NaN                      NaN   \n",
       "\n",
       "  Road Ramp Bridge Highway Segment Garage Lot Name Ferry Direction  \\\n",
       "0       NaN                    NaN             NaN             NaN   \n",
       "1       NaN                    NaN             NaN             NaN   \n",
       "2       NaN                    NaN             NaN             NaN   \n",
       "3       NaN                    NaN             NaN             NaN   \n",
       "4       NaN                    NaN             NaN             NaN   \n",
       "\n",
       "  Ferry Terminal Name   Latitude  Longitude  \\\n",
       "0                 NaN  40.708275 -73.791604   \n",
       "1                 NaN  40.721041 -73.909453   \n",
       "2                 NaN  40.843330 -73.939144   \n",
       "3                 NaN  40.778009 -73.980213   \n",
       "4                 NaN  40.807691 -73.947387   \n",
       "\n",
       "                                   Location  \n",
       "0   (40.70827532593202, -73.79160395779721)  \n",
       "1  (40.721040535628305, -73.90945306791765)  \n",
       "2   (40.84332975466513, -73.93914371913482)  \n",
       "3    (40.7780087446372, -73.98021349023975)  \n",
       "4   (40.80769092704951, -73.94738703491433)  \n",
       "\n",
       "[5 rows x 52 columns]"
      ]
     },
     "execution_count": 7,
     "metadata": {},
     "output_type": "execute_result"
    }
   ],
   "source": [
    "df.head()"
   ]
  },
  {
   "cell_type": "code",
   "execution_count": 8,
   "metadata": {},
   "outputs": [
    {
     "data": {
      "text/html": [
       "<div>\n",
       "<style scoped>\n",
       "    .dataframe tbody tr th:only-of-type {\n",
       "        vertical-align: middle;\n",
       "    }\n",
       "\n",
       "    .dataframe tbody tr th {\n",
       "        vertical-align: top;\n",
       "    }\n",
       "\n",
       "    .dataframe thead th {\n",
       "        text-align: right;\n",
       "    }\n",
       "</style>\n",
       "<table border=\"1\" class=\"dataframe\">\n",
       "  <thead>\n",
       "    <tr style=\"text-align: right;\">\n",
       "      <th></th>\n",
       "      <th>Unique Key</th>\n",
       "      <th>X Coordinate (State Plane)</th>\n",
       "      <th>Y Coordinate (State Plane)</th>\n",
       "      <th>School or Citywide Complaint</th>\n",
       "      <th>Latitude</th>\n",
       "      <th>Longitude</th>\n",
       "    </tr>\n",
       "  </thead>\n",
       "  <tbody>\n",
       "    <tr>\n",
       "      <th>count</th>\n",
       "      <td>1.110690e+05</td>\n",
       "      <td>9.814300e+04</td>\n",
       "      <td>98143.000000</td>\n",
       "      <td>0.0</td>\n",
       "      <td>98143.000000</td>\n",
       "      <td>98143.000000</td>\n",
       "    </tr>\n",
       "    <tr>\n",
       "      <th>mean</th>\n",
       "      <td>2.651565e+07</td>\n",
       "      <td>1.004544e+06</td>\n",
       "      <td>205553.153287</td>\n",
       "      <td>NaN</td>\n",
       "      <td>40.730821</td>\n",
       "      <td>-73.926738</td>\n",
       "    </tr>\n",
       "    <tr>\n",
       "      <th>std</th>\n",
       "      <td>4.694558e+04</td>\n",
       "      <td>2.206087e+04</td>\n",
       "      <td>31334.677543</td>\n",
       "      <td>NaN</td>\n",
       "      <td>0.086006</td>\n",
       "      <td>0.079563</td>\n",
       "    </tr>\n",
       "    <tr>\n",
       "      <th>min</th>\n",
       "      <td>2.642588e+07</td>\n",
       "      <td>9.134950e+05</td>\n",
       "      <td>121152.000000</td>\n",
       "      <td>NaN</td>\n",
       "      <td>40.498949</td>\n",
       "      <td>-74.254437</td>\n",
       "    </tr>\n",
       "    <tr>\n",
       "      <th>25%</th>\n",
       "      <td>2.647433e+07</td>\n",
       "      <td>9.920490e+05</td>\n",
       "      <td>182506.000000</td>\n",
       "      <td>NaN</td>\n",
       "      <td>40.667529</td>\n",
       "      <td>-73.971882</td>\n",
       "    </tr>\n",
       "    <tr>\n",
       "      <th>50%</th>\n",
       "      <td>2.651472e+07</td>\n",
       "      <td>1.003205e+06</td>\n",
       "      <td>203251.000000</td>\n",
       "      <td>NaN</td>\n",
       "      <td>40.724521</td>\n",
       "      <td>-73.931580</td>\n",
       "    </tr>\n",
       "    <tr>\n",
       "      <th>75%</th>\n",
       "      <td>2.655684e+07</td>\n",
       "      <td>1.016823e+06</td>\n",
       "      <td>233366.000000</td>\n",
       "      <td>NaN</td>\n",
       "      <td>40.807183</td>\n",
       "      <td>-73.882430</td>\n",
       "    </tr>\n",
       "    <tr>\n",
       "      <th>max</th>\n",
       "      <td>2.659613e+07</td>\n",
       "      <td>1.067024e+06</td>\n",
       "      <td>271485.000000</td>\n",
       "      <td>NaN</td>\n",
       "      <td>40.911792</td>\n",
       "      <td>-73.701278</td>\n",
       "    </tr>\n",
       "  </tbody>\n",
       "</table>\n",
       "</div>"
      ],
      "text/plain": [
       "         Unique Key  X Coordinate (State Plane)  Y Coordinate (State Plane)  \\\n",
       "count  1.110690e+05                9.814300e+04                98143.000000   \n",
       "mean   2.651565e+07                1.004544e+06               205553.153287   \n",
       "std    4.694558e+04                2.206087e+04                31334.677543   \n",
       "min    2.642588e+07                9.134950e+05               121152.000000   \n",
       "25%    2.647433e+07                9.920490e+05               182506.000000   \n",
       "50%    2.651472e+07                1.003205e+06               203251.000000   \n",
       "75%    2.655684e+07                1.016823e+06               233366.000000   \n",
       "max    2.659613e+07                1.067024e+06               271485.000000   \n",
       "\n",
       "       School or Citywide Complaint      Latitude     Longitude  \n",
       "count                           0.0  98143.000000  98143.000000  \n",
       "mean                            NaN     40.730821    -73.926738  \n",
       "std                             NaN      0.086006      0.079563  \n",
       "min                             NaN     40.498949    -74.254437  \n",
       "25%                             NaN     40.667529    -73.971882  \n",
       "50%                             NaN     40.724521    -73.931580  \n",
       "75%                             NaN     40.807183    -73.882430  \n",
       "max                             NaN     40.911792    -73.701278  "
      ]
     },
     "execution_count": 8,
     "metadata": {},
     "output_type": "execute_result"
    }
   ],
   "source": [
    "df.describe()"
   ]
  },
  {
   "cell_type": "markdown",
   "metadata": {},
   "source": [
    "# 2.2 Selecting columns and rows"
   ]
  },
  {
   "cell_type": "markdown",
   "metadata": {},
   "source": [
    "Select the column 'Complaint Type'"
   ]
  },
  {
   "cell_type": "code",
   "execution_count": 24,
   "metadata": {},
   "outputs": [
    {
     "name": "stdout",
     "output_type": "stream",
     "text": [
      "0         Noise - Street/Sidewalk\n",
      "1                 Illegal Parking\n",
      "2              Noise - Commercial\n",
      "3                 Noise - Vehicle\n",
      "4                          Rodent\n",
      "                   ...           \n",
      "111064    Maintenance or Facility\n",
      "111065            Illegal Parking\n",
      "111066    Noise - Street/Sidewalk\n",
      "111067         Noise - Commercial\n",
      "111068           Blocked Driveway\n",
      "Name: Complaint Type, Length: 111069, dtype: object\n"
     ]
    }
   ],
   "source": [
    "complaint_type = df[\"Complaint Type\"]\n",
    "print(complaint_type)"
   ]
  },
  {
   "cell_type": "markdown",
   "metadata": {},
   "source": [
    "Get the first five rows of the column 'Complaint Type'"
   ]
  },
  {
   "cell_type": "code",
   "execution_count": 16,
   "metadata": {},
   "outputs": [
    {
     "data": {
      "text/plain": [
       "0    Noise - Street/Sidewalk\n",
       "1            Illegal Parking\n",
       "2         Noise - Commercial\n",
       "3            Noise - Vehicle\n",
       "4                     Rodent\n",
       "Name: Complaint Type, dtype: object"
      ]
     },
     "execution_count": 16,
     "metadata": {},
     "output_type": "execute_result"
    }
   ],
   "source": [
    "complaint_type.head()"
   ]
  },
  {
   "cell_type": "markdown",
   "metadata": {},
   "source": [
    "# 2.3 Selecting multiple columns"
   ]
  },
  {
   "cell_type": "markdown",
   "metadata": {},
   "source": [
    "Display all the column names using the .columns.values attribute"
   ]
  },
  {
   "cell_type": "code",
   "execution_count": 22,
   "metadata": {},
   "outputs": [
    {
     "name": "stdout",
     "output_type": "stream",
     "text": [
      "['Unique Key' 'Created Date' 'Closed Date' 'Agency' 'Agency Name'\n",
      " 'Complaint Type' 'Descriptor' 'Location Type' 'Incident Zip'\n",
      " 'Incident Address' 'Street Name' 'Cross Street 1' 'Cross Street 2'\n",
      " 'Intersection Street 1' 'Intersection Street 2' 'Address Type' 'City'\n",
      " 'Landmark' 'Facility Type' 'Status' 'Due Date'\n",
      " 'Resolution Action Updated Date' 'Community Board' 'Borough'\n",
      " 'X Coordinate (State Plane)' 'Y Coordinate (State Plane)'\n",
      " 'Park Facility Name' 'Park Borough' 'School Name' 'School Number'\n",
      " 'School Region' 'School Code' 'School Phone Number' 'School Address'\n",
      " 'School City' 'School State' 'School Zip' 'School Not Found'\n",
      " 'School or Citywide Complaint' 'Vehicle Type' 'Taxi Company Borough'\n",
      " 'Taxi Pick Up Location' 'Bridge Highway Name' 'Bridge Highway Direction'\n",
      " 'Road Ramp' 'Bridge Highway Segment' 'Garage Lot Name' 'Ferry Direction'\n",
      " 'Ferry Terminal Name' 'Latitude' 'Longitude' 'Location']\n"
     ]
    }
   ],
   "source": [
    "print(df.columns.values)"
   ]
  },
  {
   "cell_type": "markdown",
   "metadata": {},
   "source": [
    "That showed us a summary, and then we can look at the first 10 rows:"
   ]
  },
  {
   "cell_type": "markdown",
   "metadata": {},
   "source": [
    "# 2.4 What's the most common complaint type?"
   ]
  },
  {
   "cell_type": "markdown",
   "metadata": {},
   "source": [
    "In the following we are going to see what are the most common complaints. You can use the `.value_counts()` method for that"
   ]
  },
  {
   "cell_type": "code",
   "execution_count": 77,
   "metadata": {},
   "outputs": [
    {
     "name": "stdout",
     "output_type": "stream",
     "text": [
      "HEATING                   14200\n",
      "GENERAL CONSTRUCTION       7471\n",
      "Street Light Condition     7117\n",
      "DOF Literature Request     5797\n",
      "PLUMBING                   5373\n",
      "                          ...  \n",
      "Snow                          1\n",
      "Highway Sign - Damaged        1\n",
      "Ferry Permit                  1\n",
      "DWD                           1\n",
      "Open Flame Permit             1\n",
      "Name: Complaint Type, Length: 165, dtype: int64\n"
     ]
    }
   ],
   "source": [
    "most_ct_num = complaint_type.value_counts()\n",
    "\n",
    "print(most_ct_num)"
   ]
  },
  {
   "cell_type": "markdown",
   "metadata": {},
   "source": [
    "Using the .sort() method, get the ten most common complaints"
   ]
  },
  {
   "cell_type": "code",
   "execution_count": 59,
   "metadata": {},
   "outputs": [
    {
     "name": "stdout",
     "output_type": "stream",
     "text": [
      "['HEATING', 'GENERAL CONSTRUCTION', 'Street Light Condition', 'DOF Literature Request', 'PLUMBING', 'PAINT - PLASTER', 'Blocked Driveway', 'NONCONST', 'Street Condition', 'Illegal Parking']\n"
     ]
    }
   ],
   "source": [
    "ten_most_ct = complaint_type.value_counts()[:10].index.tolist()\n",
    "print(ten_most_ct)\n",
    "\n"
   ]
  },
  {
   "cell_type": "markdown",
   "metadata": {},
   "source": [
    "using the .plot() function plot the most commong complaints as a bar chart"
   ]
  },
  {
   "cell_type": "code",
   "execution_count": 72,
   "metadata": {},
   "outputs": [
    {
     "data": {
      "text/plain": [
       "<AxesSubplot:>"
      ]
     },
     "execution_count": 72,
     "metadata": {},
     "output_type": "execute_result"
    },
    {
     "data": {
      "image/png": "[encoded data removed]",
      "text/plain": [
       "<Figure size 1080x360 with 1 Axes>"
      ]
     },
     "metadata": {
      "needs_background": "light"
     },
     "output_type": "display_data"
    }
   ],
   "source": [
    "complaint_type.value_counts().plot()"
   ]
  },
  {
   "cell_type": "markdown",
   "metadata": {},
   "source": [
    "<style>\n",
    "    @font-face {\n",
    "        font-family: \"Computer Modern\";\n",
    "        src: url('http://mirrors.ctan.org/fonts/cm-unicode/fonts/otf/cmunss.otf');\n",
    "    }\n",
    "    div.cell{\n",
    "        width:800px;\n",
    "        margin-left:16% !important;\n",
    "        margin-right:auto;\n",
    "    }\n",
    "    h1 {\n",
    "        font-family: Helvetica, serif;\n",
    "    }\n",
    "    h4{\n",
    "        margin-top:12px;\n",
    "        margin-bottom: 3px;\n",
    "       }\n",
    "    div.text_cell_render{\n",
    "        font-family: Computer Modern, \"Helvetica Neue\", Arial, Helvetica, Geneva, sans-serif;\n",
    "        line-height: 145%;\n",
    "        font-size: 130%;\n",
    "        width:800px;\n",
    "        margin-left:auto;\n",
    "        margin-right:auto;\n",
    "    }\n",
    "    .CodeMirror{\n",
    "            font-family: \"Source Code Pro\", source-code-pro,Consolas, monospace;\n",
    "    }\n",
    "    .text_cell_render h5 {\n",
    "        font-weight: 300;\n",
    "        font-size: 22pt;\n",
    "        color: #4057A1;\n",
    "        font-style: italic;\n",
    "        margin-bottom: .5em;\n",
    "        margin-top: 0.5em;\n",
    "        display: block;\n",
    "    }\n",
    "    \n",
    "    .warning{\n",
    "        color: rgb( 240, 20, 20 )\n",
    "        }  "
   ]
  }
 ],
 "metadata": {
  "kernelspec": {
   "display_name": "Python 3",
   "language": "python",
   "name": "python3"
  },
  "language_info": {
   "codemirror_mode": {
    "name": "ipython",
    "version": 3
   },
   "file_extension": ".py",
   "mimetype": "text/x-python",
   "name": "python",
   "nbconvert_exporter": "python",
   "pygments_lexer": "ipython3",
   "version": "3.8.0"
  }
 },
 "nbformat": 4,
 "nbformat_minor": 1
}
