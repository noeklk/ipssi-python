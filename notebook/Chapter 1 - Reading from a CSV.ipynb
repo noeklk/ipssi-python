{
 "cells": [
  {
   "cell_type": "code",
   "execution_count": 2,
   "metadata": {},
   "outputs": [],
   "source": [
    "# Render our plots inline\n",
    "%matplotlib inline\n",
    "\n",
    "import pandas as pd\n",
    "import matplotlib.pyplot as plt\n",
    "\n",
    "plt.rcParams['figure.figsize'] = (15, 10)"
   ]
  },
  {
   "cell_type": "markdown",
   "metadata": {},
   "source": [
    "# 1.1 Reading data from a csv file"
   ]
  },
  {
   "cell_type": "markdown",
   "metadata": {},
   "source": [
    "We're going to be looking some cyclist data from Montréal. Here's the [original page](http://donnees.ville.montreal.qc.ca/dataset/velos-comptage) (in French), but it's already included in this repository. We're using the data from 2012.\n",
    "\n",
    "This dataset is a list of how many people were on 7 different bike paths in Montreal, each day.\n",
    "\n",
    "Load the dataset bike.csv using `read_csv`. As you can see several parameters are available.\n"
   ]
  },
  {
   "cell_type": "code",
   "execution_count": 5,
   "metadata": {},
   "outputs": [
    {
     "output_type": "execute_result",
     "data": {
      "text/plain": [
       "    Date;Berri 1;Brébeuf (données non disponibles);Côte-Sainte-Catherine;Maisonneuve 1;Maisonneuve 2;du Parc;Pierre-Dupuy;Rachel1;St-Urbain (données non disponibles)\n",
       "0                     01/01/2012;35;;0;38;51;26;10;16;                                                                                                               \n",
       "1                     02/01/2012;83;;1;68;153;53;6;43;                                                                                                               \n",
       "2                   03/01/2012;135;;2;104;248;89;3;58;                                                                                                               \n",
       "3                  04/01/2012;144;;1;116;318;111;8;61;                                                                                                               \n",
       "4                  05/01/2012;197;;2;124;330;97;13;95;                                                                                                               \n",
       "..                                                 ...                                                                                                               \n",
       "305      01/11/2012;2405;;1208;1701;3082;2076;165;2461                                                                                                               \n",
       "306        02/11/2012;1582;;737;1109;2277;1392;97;1888                                                                                                               \n",
       "307          03/11/2012;844;;380;612;1137;713;105;1302                                                                                                               \n",
       "308          04/11/2012;966;;446;710;1277;692;197;1374                                                                                                               \n",
       "309      05/11/2012;2247;;1170;1705;3221;2143;179;2430                                                                                                               \n",
       "\n",
       "[310 rows x 1 columns]"
      ],
      "text/html": "<div>\n<style scoped>\n    .dataframe tbody tr th:only-of-type {\n        vertical-align: middle;\n    }\n\n    .dataframe tbody tr th {\n        vertical-align: top;\n    }\n\n    .dataframe thead th {\n        text-align: right;\n    }\n</style>\n<table border=\"1\" class=\"dataframe\">\n  <thead>\n    <tr style=\"text-align: right;\">\n      <th></th>\n      <th>Date;Berri 1;Brébeuf (données non disponibles);Côte-Sainte-Catherine;Maisonneuve 1;Maisonneuve 2;du Parc;Pierre-Dupuy;Rachel1;St-Urbain (données non disponibles)</th>\n    </tr>\n  </thead>\n  <tbody>\n    <tr>\n      <th>0</th>\n      <td>01/01/2012;35;;0;38;51;26;10;16;</td>\n    </tr>\n    <tr>\n      <th>1</th>\n      <td>02/01/2012;83;;1;68;153;53;6;43;</td>\n    </tr>\n    <tr>\n      <th>2</th>\n      <td>03/01/2012;135;;2;104;248;89;3;58;</td>\n    </tr>\n    <tr>\n      <th>3</th>\n      <td>04/01/2012;144;;1;116;318;111;8;61;</td>\n    </tr>\n    <tr>\n      <th>4</th>\n      <td>05/01/2012;197;;2;124;330;97;13;95;</td>\n    </tr>\n    <tr>\n      <th>...</th>\n      <td>...</td>\n    </tr>\n    <tr>\n      <th>305</th>\n      <td>01/11/2012;2405;;1208;1701;3082;2076;165;2461</td>\n    </tr>\n    <tr>\n      <th>306</th>\n      <td>02/11/2012;1582;;737;1109;2277;1392;97;1888</td>\n    </tr>\n    <tr>\n      <th>307</th>\n      <td>03/11/2012;844;;380;612;1137;713;105;1302</td>\n    </tr>\n    <tr>\n      <th>308</th>\n      <td>04/11/2012;966;;446;710;1277;692;197;1374</td>\n    </tr>\n    <tr>\n      <th>309</th>\n      <td>05/11/2012;2247;;1170;1705;3221;2143;179;2430</td>\n    </tr>\n  </tbody>\n</table>\n<p>310 rows × 1 columns</p>\n</div>"
     },
     "metadata": {},
     "execution_count": 5
    }
   ],
   "source": [
    "pd.read_csv('static/bikes.csv')"
   ]
  },
  {
   "cell_type": "code",
   "execution_count": 7,
   "metadata": {},
   "outputs": [
    {
     "output_type": "execute_result",
     "data": {
      "text/plain": [
       "  Date;Berri 1;Brébeuf (données non disponibles);Côte-Sainte-Catherine;Maisonneuve 1;Maisonneuve 2;du Parc;Pierre-Dupuy;Rachel1;St-Urbain (données non disponibles)\n",
       "0                   01/01/2012;35;;0;38;51;26;10;16;                                                                                                               \n",
       "1                   02/01/2012;83;;1;68;153;53;6;43;                                                                                                               \n",
       "2                 03/01/2012;135;;2;104;248;89;3;58;                                                                                                               "
      ],
      "text/html": "<div>\n<style scoped>\n    .dataframe tbody tr th:only-of-type {\n        vertical-align: middle;\n    }\n\n    .dataframe tbody tr th {\n        vertical-align: top;\n    }\n\n    .dataframe thead th {\n        text-align: right;\n    }\n</style>\n<table border=\"1\" class=\"dataframe\">\n  <thead>\n    <tr style=\"text-align: right;\">\n      <th></th>\n      <th>Date;Berri 1;Brébeuf (données non disponibles);Côte-Sainte-Catherine;Maisonneuve 1;Maisonneuve 2;du Parc;Pierre-Dupuy;Rachel1;St-Urbain (données non disponibles)</th>\n    </tr>\n  </thead>\n  <tbody>\n    <tr>\n      <th>0</th>\n      <td>01/01/2012;35;;0;38;51;26;10;16;</td>\n    </tr>\n    <tr>\n      <th>1</th>\n      <td>02/01/2012;83;;1;68;153;53;6;43;</td>\n    </tr>\n    <tr>\n      <th>2</th>\n      <td>03/01/2012;135;;2;104;248;89;3;58;</td>\n    </tr>\n  </tbody>\n</table>\n</div>"
     },
     "metadata": {},
     "execution_count": 7
    }
   ],
   "source": [
    "pd.read_csv('static/bikes.csv', nrows=3)"
   ]
  },
  {
   "cell_type": "markdown",
   "metadata": {},
   "source": [
    "\n",
    "Select the first 3 rows using the same mechanism as numpy row selection"
   ]
  },
  {
   "cell_type": "code",
   "execution_count": 66,
   "metadata": {},
   "outputs": [
    {
     "output_type": "execute_result",
     "data": {
      "text/plain": [
       "            Berri 1  Brébeuf (données non disponibles)  Côte-Sainte-Catherine  \\\n",
       "Date                                                                            \n",
       "2012-01-01       35                                NaN                      0   \n",
       "2012-01-02       83                                NaN                      1   \n",
       "2012-01-03      135                                NaN                      2   \n",
       "\n",
       "            Maisonneuve 1  Maisonneuve 2  du Parc  Pierre-Dupuy  Rachel1  \\\n",
       "Date                                                                       \n",
       "2012-01-01             38             51       26            10       16   \n",
       "2012-01-02             68            153       53             6       43   \n",
       "2012-01-03            104            248       89             3       58   \n",
       "\n",
       "            St-Urbain (données non disponibles)  \n",
       "Date                                             \n",
       "2012-01-01                                  NaN  \n",
       "2012-01-02                                  NaN  \n",
       "2012-01-03                                  NaN  "
      ],
      "text/html": "<div>\n<style scoped>\n    .dataframe tbody tr th:only-of-type {\n        vertical-align: middle;\n    }\n\n    .dataframe tbody tr th {\n        vertical-align: top;\n    }\n\n    .dataframe thead th {\n        text-align: right;\n    }\n</style>\n<table border=\"1\" class=\"dataframe\">\n  <thead>\n    <tr style=\"text-align: right;\">\n      <th></th>\n      <th>Berri 1</th>\n      <th>Brébeuf (données non disponibles)</th>\n      <th>Côte-Sainte-Catherine</th>\n      <th>Maisonneuve 1</th>\n      <th>Maisonneuve 2</th>\n      <th>du Parc</th>\n      <th>Pierre-Dupuy</th>\n      <th>Rachel1</th>\n      <th>St-Urbain (données non disponibles)</th>\n    </tr>\n    <tr>\n      <th>Date</th>\n      <th></th>\n      <th></th>\n      <th></th>\n      <th></th>\n      <th></th>\n      <th></th>\n      <th></th>\n      <th></th>\n      <th></th>\n    </tr>\n  </thead>\n  <tbody>\n    <tr>\n      <th>2012-01-01</th>\n      <td>35</td>\n      <td>NaN</td>\n      <td>0</td>\n      <td>38</td>\n      <td>51</td>\n      <td>26</td>\n      <td>10</td>\n      <td>16</td>\n      <td>NaN</td>\n    </tr>\n    <tr>\n      <th>2012-01-02</th>\n      <td>83</td>\n      <td>NaN</td>\n      <td>1</td>\n      <td>68</td>\n      <td>153</td>\n      <td>53</td>\n      <td>6</td>\n      <td>43</td>\n      <td>NaN</td>\n    </tr>\n    <tr>\n      <th>2012-01-03</th>\n      <td>135</td>\n      <td>NaN</td>\n      <td>2</td>\n      <td>104</td>\n      <td>248</td>\n      <td>89</td>\n      <td>3</td>\n      <td>58</td>\n      <td>NaN</td>\n    </tr>\n  </tbody>\n</table>\n</div>"
     },
     "metadata": {},
     "execution_count": 66
    }
   ],
   "source": [
    "from datetime import datetime\n",
    "\n",
    "pd.read_csv('static/bikes.csv', nrows=3, sep=\";\", dayfirst=True, parse_dates=['Date'],index_col=\"Date\")\n"
   ]
  },
  {
   "cell_type": "markdown",
   "metadata": {},
   "source": [
    "You'll notice that this it was not properly loaded : all columns collapsed into one. We will use options of  `read_csv` to fix that\n",
    "\n",
    "* change the column separator to a `;` with the `sep` option\n",
    "* Parse the dates in the 'Date' column using `parse_date`\n",
    "* Tell it that our dates have the day first instead of the month first\n",
    "* Set the index to be the 'Date' column with `index_col`"
   ]
  },
  {
   "cell_type": "code",
   "execution_count": null,
   "metadata": {},
   "outputs": [],
   "source": []
  },
  {
   "cell_type": "markdown",
   "metadata": {},
   "source": [
    "# 1.2 Selecting a column"
   ]
  },
  {
   "cell_type": "markdown",
   "metadata": {},
   "source": [
    "You can select a column (or several) like a dictionnary juste put the name of the column between a brack : \n",
    "`df['column_name']` or `df[['col1', 'col2', etc]]`"
   ]
  },
  {
   "cell_type": "code",
   "execution_count": null,
   "metadata": {
    "scrolled": true
   },
   "outputs": [],
   "source": []
  },
  {
   "cell_type": "markdown",
   "metadata": {},
   "source": [
    "# 1.3 Plotting a column"
   ]
  },
  {
   "cell_type": "markdown",
   "metadata": {},
   "source": [
    "Plot the the column using  `.plot()` \n",
    "\n",
    "We can see that, unsurprisingly, not many people are biking in January, February, and March, "
   ]
  },
  {
   "cell_type": "code",
   "execution_count": null,
   "metadata": {},
   "outputs": [],
   "source": []
  },
  {
   "cell_type": "markdown",
   "metadata": {},
   "source": [
    "We can also plot all the columns of dataframe using the same mechanism. "
   ]
  },
  {
   "cell_type": "code",
   "execution_count": null,
   "metadata": {},
   "outputs": [],
   "source": []
  },
  {
   "cell_type": "markdown",
   "metadata": {},
   "source": [
    "However it is a bit cluttered as you can see. Plot it again using the `subplots=True` parameter"
   ]
  },
  {
   "cell_type": "code",
   "execution_count": null,
   "metadata": {},
   "outputs": [],
   "source": []
  },
  {
   "cell_type": "markdown",
   "metadata": {},
   "source": [
    "<style>\n",
    "    @font-face {\n",
    "        font-family: \"Computer Modern\";\n",
    "        src: url('http://mirrors.ctan.org/fonts/cm-unicode/fonts/otf/cmunss.otf');\n",
    "    }\n",
    "    div.cell{\n",
    "        width:800px;\n",
    "        margin-left:16% !important;\n",
    "        margin-right:auto;\n",
    "    }\n",
    "    h1 {\n",
    "        font-family: Helvetica, serif;\n",
    "    }\n",
    "    h4{\n",
    "        margin-top:12px;\n",
    "        margin-bottom: 3px;\n",
    "       }\n",
    "    div.text_cell_render{\n",
    "        font-family: Computer Modern, \"Helvetica Neue\", Arial, Helvetica, Geneva, sans-serif;\n",
    "        line-height: 145%;\n",
    "        font-size: 130%;\n",
    "        width:800px;\n",
    "        margin-left:auto;\n",
    "        margin-right:auto;\n",
    "    }\n",
    "    .CodeMirror{\n",
    "            font-family: \"Source Code Pro\", source-code-pro,Consolas, monospace;\n",
    "    }\n",
    "    .text_cell_render h5 {\n",
    "        font-weight: 300;\n",
    "        font-size: 22pt;\n",
    "        color: #4057A1;\n",
    "        font-style: italic;\n",
    "        margin-bottom: .5em;\n",
    "        margin-top: 0.5em;\n",
    "        display: block;\n",
    "    }\n",
    "    \n",
    "    .warning{\n",
    "        color: rgb( 240, 20, 20 )\n",
    "        }  "
   ]
  }
 ],
 "metadata": {
  "kernelspec": {
   "display_name": "Python 3",
   "language": "python",
   "name": "python3"
  },
  "language_info": {
   "codemirror_mode": {
    "name": "ipython",
    "version": 3
   },
   "file_extension": ".py",
   "mimetype": "text/x-python",
   "name": "python",
   "nbconvert_exporter": "python",
   "pygments_lexer": "ipython3",
   "version": "3.8.0-final"
  }
 },
 "nbformat": 4,
 "nbformat_minor": 1
}